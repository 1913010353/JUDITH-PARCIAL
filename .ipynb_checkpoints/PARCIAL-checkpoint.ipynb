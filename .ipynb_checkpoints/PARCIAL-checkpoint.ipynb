{
 "cells": [
  {
   "cell_type": "markdown",
   "metadata": {},
   "source": [
    "# parcial\n"
   ]
  },
  {
   "cell_type": "code",
   "execution_count": 4,
   "metadata": {},
   "outputs": [
    {
     "name": "stdout",
     "output_type": "stream",
     "text": [
      "digite venta total: 1500\n"
     ]
    }
   ],
   "source": [
    "ventatotal=float (input(\"digite venta total: \"))"
   ]
  },
  {
   "cell_type": "code",
   "execution_count": 5,
   "metadata": {},
   "outputs": [],
   "source": [
    "def obtenerIGV(ventatotal):\n",
    "    return ventatotal*0.18\n",
    "def obtenersubtotal(ventatotal):\n",
    "    return obtenerIGV(ventatotal)+ventatotal"
   ]
  },
  {
   "cell_type": "code",
   "execution_count": 6,
   "metadata": {},
   "outputs": [
    {
     "name": "stdout",
     "output_type": "stream",
     "text": [
      "El IGV es 270.0\n",
      "El  sub total  es 1770.0\n",
      "None\n"
     ]
    }
   ],
   "source": [
    "print(f\"El IGV es {obtenerIGV(ventatotal)}\") \n",
    "print(print(f\"El  sub total  es {obtenersubtotal(ventatotal)}\") )"
   ]
  },
  {
   "cell_type": "code",
   "execution_count": null,
   "metadata": {},
   "outputs": [],
   "source": []
  }
 ],
 "metadata": {
  "kernelspec": {
   "display_name": "Python 3",
   "language": "python",
   "name": "python3"
  },
  "language_info": {
   "codemirror_mode": {
    "name": "ipython",
    "version": 3
   },
   "file_extension": ".py",
   "mimetype": "text/x-python",
   "name": "python",
   "nbconvert_exporter": "python",
   "pygments_lexer": "ipython3",
   "version": "3.7.6"
  }
 },
 "nbformat": 4,
 "nbformat_minor": 4
}
